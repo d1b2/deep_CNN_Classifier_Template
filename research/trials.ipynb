{
 "cells": [
  {
   "cell_type": "code",
   "execution_count": null,
   "metadata": {},
   "outputs": [],
   "source": []
  }
 ],
 "metadata": {
  "kernelspec": {
   "display_name": "Python 3.8.13 (conda)",
   "language": "python",
   "name": "python3"
  },
  "language_info": {
   "name": "python",
   "version": "3.8.13"
  },
  "orig_nbformat": 4,
  "vscode": {
   "interpreter": {
    "hash": "14f69cee2d47574b7731fbe20a1364962abd217d1f6719392705b262a9944deb"
   }
  }
 },
 "nbformat": 4,
 "nbformat_minor": 2
}
